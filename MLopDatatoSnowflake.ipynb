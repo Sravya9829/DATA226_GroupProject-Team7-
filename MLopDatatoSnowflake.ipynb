{
  "nbformat": 4,
  "nbformat_minor": 0,
  "metadata": {
    "colab": {
      "provenance": []
    },
    "kernelspec": {
      "name": "python3",
      "display_name": "Python 3"
    },
    "language_info": {
      "name": "python"
    }
  },
  "cells": [
    {
      "cell_type": "code",
      "source": [
        "!pip install snowflake-connector-python pandas scikit-learn"
      ],
      "metadata": {
        "colab": {
          "base_uri": "https://localhost:8080/"
        },
        "id": "Pt6kBPoEAnSX",
        "outputId": "6431c307-166e-4751-c79a-4c0a6c76fe03"
      },
      "execution_count": 3,
      "outputs": [
        {
          "output_type": "stream",
          "name": "stdout",
          "text": [
            "Collecting snowflake-connector-python\n",
            "  Downloading snowflake_connector_python-3.12.3-cp310-cp310-manylinux_2_17_x86_64.manylinux2014_x86_64.whl.metadata (65 kB)\n",
            "\u001b[?25l     \u001b[90m━━━━━━━━━━━━━━━━━━━━━━━━━━━━━━━━━━━━━━━━\u001b[0m \u001b[32m0.0/65.5 kB\u001b[0m \u001b[31m?\u001b[0m eta \u001b[36m-:--:--\u001b[0m\r\u001b[2K     \u001b[90m━━━━━━━━━━━━━━━━━━━━━━━━━━━━━━━━━━━━━━━━\u001b[0m \u001b[32m65.5/65.5 kB\u001b[0m \u001b[31m1.7 MB/s\u001b[0m eta \u001b[36m0:00:00\u001b[0m\n",
            "\u001b[?25hRequirement already satisfied: pandas in /usr/local/lib/python3.10/dist-packages (2.2.2)\n",
            "Requirement already satisfied: scikit-learn in /usr/local/lib/python3.10/dist-packages (1.5.2)\n",
            "Collecting asn1crypto<2.0.0,>0.24.0 (from snowflake-connector-python)\n",
            "  Downloading asn1crypto-1.5.1-py2.py3-none-any.whl.metadata (13 kB)\n",
            "Requirement already satisfied: cffi<2.0.0,>=1.9 in /usr/local/lib/python3.10/dist-packages (from snowflake-connector-python) (1.17.1)\n",
            "Requirement already satisfied: cryptography>=3.1.0 in /usr/local/lib/python3.10/dist-packages (from snowflake-connector-python) (43.0.3)\n",
            "Requirement already satisfied: pyOpenSSL<25.0.0,>=16.2.0 in /usr/local/lib/python3.10/dist-packages (from snowflake-connector-python) (24.2.1)\n",
            "Requirement already satisfied: pyjwt<3.0.0 in /usr/local/lib/python3.10/dist-packages (from snowflake-connector-python) (2.10.0)\n",
            "Requirement already satisfied: pytz in /usr/local/lib/python3.10/dist-packages (from snowflake-connector-python) (2024.2)\n",
            "Requirement already satisfied: requests<3.0.0 in /usr/local/lib/python3.10/dist-packages (from snowflake-connector-python) (2.32.3)\n",
            "Requirement already satisfied: packaging in /usr/local/lib/python3.10/dist-packages (from snowflake-connector-python) (24.2)\n",
            "Requirement already satisfied: charset-normalizer<4,>=2 in /usr/local/lib/python3.10/dist-packages (from snowflake-connector-python) (3.4.0)\n",
            "Requirement already satisfied: idna<4,>=2.5 in /usr/local/lib/python3.10/dist-packages (from snowflake-connector-python) (3.10)\n",
            "Requirement already satisfied: certifi>=2017.4.17 in /usr/local/lib/python3.10/dist-packages (from snowflake-connector-python) (2024.8.30)\n",
            "Requirement already satisfied: typing-extensions<5,>=4.3 in /usr/local/lib/python3.10/dist-packages (from snowflake-connector-python) (4.12.2)\n",
            "Requirement already satisfied: filelock<4,>=3.5 in /usr/local/lib/python3.10/dist-packages (from snowflake-connector-python) (3.16.1)\n",
            "Collecting sortedcontainers>=2.4.0 (from snowflake-connector-python)\n",
            "  Downloading sortedcontainers-2.4.0-py2.py3-none-any.whl.metadata (10 kB)\n",
            "Requirement already satisfied: platformdirs<5.0.0,>=2.6.0 in /usr/local/lib/python3.10/dist-packages (from snowflake-connector-python) (4.3.6)\n",
            "Collecting tomlkit (from snowflake-connector-python)\n",
            "  Downloading tomlkit-0.13.2-py3-none-any.whl.metadata (2.7 kB)\n",
            "Requirement already satisfied: numpy>=1.22.4 in /usr/local/lib/python3.10/dist-packages (from pandas) (1.26.4)\n",
            "Requirement already satisfied: python-dateutil>=2.8.2 in /usr/local/lib/python3.10/dist-packages (from pandas) (2.8.2)\n",
            "Requirement already satisfied: tzdata>=2022.7 in /usr/local/lib/python3.10/dist-packages (from pandas) (2024.2)\n",
            "Requirement already satisfied: scipy>=1.6.0 in /usr/local/lib/python3.10/dist-packages (from scikit-learn) (1.13.1)\n",
            "Requirement already satisfied: joblib>=1.2.0 in /usr/local/lib/python3.10/dist-packages (from scikit-learn) (1.4.2)\n",
            "Requirement already satisfied: threadpoolctl>=3.1.0 in /usr/local/lib/python3.10/dist-packages (from scikit-learn) (3.5.0)\n",
            "Requirement already satisfied: pycparser in /usr/local/lib/python3.10/dist-packages (from cffi<2.0.0,>=1.9->snowflake-connector-python) (2.22)\n",
            "Requirement already satisfied: six>=1.5 in /usr/local/lib/python3.10/dist-packages (from python-dateutil>=2.8.2->pandas) (1.16.0)\n",
            "Requirement already satisfied: urllib3<3,>=1.21.1 in /usr/local/lib/python3.10/dist-packages (from requests<3.0.0->snowflake-connector-python) (2.2.3)\n",
            "Downloading snowflake_connector_python-3.12.3-cp310-cp310-manylinux_2_17_x86_64.manylinux2014_x86_64.whl (2.5 MB)\n",
            "\u001b[2K   \u001b[90m━━━━━━━━━━━━━━━━━━━━━━━━━━━━━━━━━━━━━━━━\u001b[0m \u001b[32m2.5/2.5 MB\u001b[0m \u001b[31m25.8 MB/s\u001b[0m eta \u001b[36m0:00:00\u001b[0m\n",
            "\u001b[?25hDownloading asn1crypto-1.5.1-py2.py3-none-any.whl (105 kB)\n",
            "\u001b[2K   \u001b[90m━━━━━━━━━━━━━━━━━━━━━━━━━━━━━━━━━━━━━━━━\u001b[0m \u001b[32m105.0/105.0 kB\u001b[0m \u001b[31m7.3 MB/s\u001b[0m eta \u001b[36m0:00:00\u001b[0m\n",
            "\u001b[?25hDownloading sortedcontainers-2.4.0-py2.py3-none-any.whl (29 kB)\n",
            "Downloading tomlkit-0.13.2-py3-none-any.whl (37 kB)\n",
            "Installing collected packages: sortedcontainers, asn1crypto, tomlkit, snowflake-connector-python\n",
            "Successfully installed asn1crypto-1.5.1 snowflake-connector-python-3.12.3 sortedcontainers-2.4.0 tomlkit-0.13.2\n"
          ]
        }
      ]
    },
    {
      "cell_type": "code",
      "execution_count": null,
      "metadata": {
        "colab": {
          "base_uri": "https://localhost:8080/"
        },
        "id": "GHPi8VTn_7I0",
        "outputId": "822f7931-311a-48be-ba96-c90a1476cd9d"
      },
      "outputs": [
        {
          "output_type": "stream",
          "name": "stdout",
          "text": [
            "Fetching data from Snowflake...\n",
            "Training model and making predictions...\n",
            "Uploading predictions to Snowflake...\n"
          ]
        }
      ],
      "source": [
        "import pandas as pd\n",
        "from sklearn.linear_model import LinearRegression\n",
        "import snowflake.connector\n",
        "\n",
        "# Snowflake connection details\n",
        "def get_snowflake_connection():\n",
        "    return snowflake.connector.connect(\n",
        "        user='connorjfq',\n",
        "        password='Group_project1',\n",
        "        account='GTNADPW-LHB58441',\n",
        "        warehouse='PROJECT_WH',\n",
        "        database='PROJECT_DB',\n",
        "        schema='RAW_DATA_SCHEMA'\n",
        "    )\n",
        "\n",
        "# Step 1: Fetch data from Snowflake\n",
        "def fetch_data_from_snowflake():\n",
        "    conn = get_snowflake_connection()\n",
        "    cursor = conn.cursor()\n",
        "\n",
        "    # Check if the table exists, create if not\n",
        "    cursor.execute(\"\"\"\n",
        "        CREATE TABLE IF NOT EXISTS PROJECT_DB.ANALYTICS.PREDICTIONS (\n",
        "            DATE DATE,\n",
        "            LAT FLOAT,\n",
        "            LONG FLOAT,\n",
        "            CURRENT_SPEED FLOAT,\n",
        "            PREDICTED_SPEED FLOAT,\n",
        "            IS_CONGESTED BOOLEAN\n",
        "        );\n",
        "    \"\"\")\n",
        "\n",
        "    query = \"\"\"\n",
        "        SELECT DATE, LAT, LONG, CURRENT_SPEED, FREE_SPEED\n",
        "        FROM TRAFFIC_DATA;\n",
        "    \"\"\"\n",
        "    cursor.execute(query)\n",
        "    rows = cursor.fetchall()\n",
        "\n",
        "    # Convert to DataFrame\n",
        "    df = pd.DataFrame(rows, columns=[\"DATE\", \"LAT\", \"LONG\", \"CURRENT_SPEED\", \"FREE_SPEED\"])\n",
        "    cursor.close()\n",
        "    conn.close()\n",
        "    return df\n",
        "\n",
        "# Step 2: Train Linear Regression model, make predictions, and determine congestion\n",
        "def train_and_predict(df):\n",
        "    if df.empty:\n",
        "        print(\"No data available for the selected time range. Skipping predictions.\")\n",
        "        return None\n",
        "\n",
        "    # Feature engineering\n",
        "    df[\"normalized_speed\"] = df[\"FREE_SPEED\"] / df[\"FREE_SPEED\"].min()\n",
        "    X = df[[\"LAT\", \"LONG\", \"FREE_SPEED\", \"normalized_speed\"]]\n",
        "    y = df[\"CURRENT_SPEED\"]\n",
        "\n",
        "    # Train model\n",
        "    model = LinearRegression()\n",
        "    model.fit(X, y)\n",
        "\n",
        "    # Make predictions and assess congestion\n",
        "    df[\"PREDICTED_SPEED\"] = model.predict(X)\n",
        "    df[\"IS_CONGESTED\"] = df[\"PREDICTED_SPEED\"] < 0.8 * df[\"FREE_SPEED\"]\n",
        "    return df\n",
        "\n",
        "# Step 3: Insert predictions back into Snowflake\n",
        "def insert_predictions_to_snowflake(df):\n",
        "    conn = get_snowflake_connection()\n",
        "    cursor = conn.cursor()\n",
        "\n",
        "    # Convert DATE column to string in Snowflake-compatible format\n",
        "    df[\"DATE\"] = df[\"DATE\"].dt.strftime(\"%Y-%m-%d\")\n",
        "\n",
        "    insert_query = \"\"\"\n",
        "        INSERT INTO PROJECT_DB.ANALYTICS.PREDICTIONS (DATE, LAT, LONG, CURRENT_SPEED, PREDICTED_SPEED, IS_CONGESTED)\n",
        "        VALUES (%s, %s, %s, %s, %s, %s);\n",
        "    \"\"\"\n",
        "    for _, row in df.iterrows():\n",
        "        cursor.execute(insert_query, tuple(row[[\"DATE\", \"LAT\", \"LONG\", \"CURRENT_SPEED\", \"PREDICTED_SPEED\", \"IS_CONGESTED\"]]))\n",
        "    conn.commit()\n",
        "    cursor.close()\n",
        "    conn.close()\n",
        "\n",
        "# Main workflow\n",
        "def main():\n",
        "    print(\"Fetching data from Snowflake...\")\n",
        "    data = fetch_data_from_snowflake()\n",
        "\n",
        "    if data.empty:\n",
        "        print(\"No data fetched. Exiting.\")\n",
        "        return\n",
        "\n",
        "    print(\"Training model and making predictions...\")\n",
        "    predictions = train_and_predict(data)\n",
        "\n",
        "    if predictions is not None:\n",
        "        print(\"Uploading predictions to Snowflake...\")\n",
        "        insert_predictions_to_snowflake(predictions)\n",
        "        print(\"Predictions uploaded successfully.\")\n",
        "\n",
        "# Run the main function\n",
        "main()\n"
      ]
    },
    {
      "cell_type": "code",
      "source": [],
      "metadata": {
        "id": "xAjJCZKCAJsH"
      },
      "execution_count": null,
      "outputs": []
    }
  ]
}